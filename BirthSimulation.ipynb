{
 "cells": [
  {
   "cell_type": "markdown",
   "metadata": {},
   "source": [
    "# 4. Birth Rate Simulation\n",
    "\n",
    "In problem 3 of this problem set, you derived a likelihood function and posterior density for the male birth rate $\\rho$, where $\\rho$ represents the probability that a newborn is male.   Of course, $\\rho$ is not known and needs to be estimated from observations of male and female births.  In problem 3, you derived the form of the posterior.  In this problem, you will build on your solution to problem 3 by computing the posterior density and making various conclusions about the uncertainty in our knowledge of $\\rho$.  "
   ]
  },
  {
   "cell_type": "markdown",
   "metadata": {},
   "source": [
    "\n",
    "The cells below define functions for generating synthetic \"birth\" data, evaluating the log of the likelihood function (i.e., $\\log f(b | \\rho)$), and computing the log of the prior density $\\log f(\\rho)$.   The remaining code cells will use these functions to evaluate and plot the posterior density. The log-likelihood and log-prior functions are not implemented, so the first task in this part is to fill in these functions with the likelihood and prior you derived in question 3 of this problem set.  \n",
    "\n",
    "**The locations where you need to add code are labeled with a comment containing \"TODO\".**    \n",
    "\n",
    "Computing factorials with large numbers can quickly lead to [numerical overflow](https://en.wikipedia.org/wiki/Integer_overflow).   Instead of using factorials directly to compute the mass function of the binomial distribution, I highly recommend using the\n",
    "[Scipy Binomial](https://docs.scipy.org/doc/scipy/reference/generated/scipy.stats.binom.html) class.   This is already imported into this notebook for you.\n",
    "\n",
    "\n",
    "#### Tasks:\n",
    "1. Read the \"Creating Your First Notebook\" section of [this tutorial](https://www.dataquest.io/blog/jupyter-notebook-tutorial/) on Jupyter notebooks.\n",
    "1. Fill in the log-likelihood and log-prior functions and run all the cells in this notebook.  Remember that they should return the $\\log$ of the densities.\n",
    "1. Change the amount of data used to construct your likelihood function by changing the `total_births` variable.  Recompute the posterior for various amounts of data.  How does the posterior density change?   Write down your observations in a new markdown cell at the end of this Jupyter notebook.  Try starting with just a observations, i.e., `total_births=1`,`total_births=2`, etc...  and ten try with a large number of observations (e.g., `total_births=100000`).\n",
    "1. Using $1000$ observations, estimate the probability that there are more male births than female births, i.e., $\\mathbb{P}(\\rho\\geq0.5)$.   Suggestions on how you might compute this quantity are provided below.\n",
    "\n",
    "#### Getting help\n",
    "- If you are unfamiliar with python, it may be helpful to look through the first few sections of the [Plotting and Programming with Python](https://swcarpentry.github.io/python-novice-gapminder/) material from Software Carpentry.\n",
    "- If you are still stuck, create a post on the Discussion page describing the issue you are having.  Feel free to include code snippets or error messages in your post.  This will help me (or your fellow classmates) help diagnose the issue."
   ]
  },
  {
   "cell_type": "code",
   "execution_count": 1,
   "metadata": {},
   "outputs": [],
   "source": [
    "%matplotlib inline\n",
    "import numpy as np\n",
    "from scipy.stats import binom\n",
    "import matplotlib.pyplot as plt"
   ]
  },
  {
   "cell_type": "markdown",
   "metadata": {},
   "source": [
    "## Tasks 1 and 2:\n",
    "The following cells contain the template code you should use to complete tasks 1 and 2.  Most of the code does not need to be changed.   Changes are only required where you see a \"TODO\" comment.  If a cell does not contain a \"TODO\", then you will be able to run it without changing or adding anything."
   ]
  },
  {
   "cell_type": "code",
   "execution_count": 2,
   "metadata": {},
   "outputs": [],
   "source": [
    "def GenerateData(total_births):\n",
    "    \"\"\" This function simulates birth gender data by returning an array containing 1's or\n",
    "        0's.  1's indicate a male birth and 0's indicate a female birth.\n",
    "        \n",
    "        ARGS:\n",
    "            total_births (int): The total number of births to simulate.\n",
    "        \n",
    "        RETURNS:\n",
    "            int: The number of male births\n",
    "            int: The number of female births\n",
    "    \"\"\"\n",
    "    u = np.random.rand(total_births)\n",
    "    male = np.sum(u<0.51)\n",
    "    female = total_births - male\n",
    "    return male, female\n",
    "    "
   ]
  },
  {
   "cell_type": "code",
   "execution_count": 3,
   "metadata": {},
   "outputs": [],
   "source": [
    "def LogLikelihood(rho, male_births, female_births):\n",
    "    \"\"\" TODO (task 2): Fill in this function with the likelihood you developed in \n",
    "              problem 3 of this problem set. \n",
    "              \n",
    "        ARGS:\n",
    "            rho (np.array): An array of possible rho values\n",
    "            male_births (int): A scalar containing the number of observed male births\n",
    "            female_births (int): A scalar containing the number of observed female births\n",
    "        \n",
    "        RETURNS:\n",
    "            np.array: An array the same shape as the input rho containing the log-likelihood\n",
    "                      function evaluated at each rho.\n",
    "    \"\"\"\n",
    "    num_births = male_births + female_births\n",
    "    \n",
    "    # TODO (task 2): REPLACE THE \"log_likelies\" ARRAY WITH YOUR LIKELIHOOD FROM PROBLEM 3.\n",
    "    log_likelies = np.log( binom.pmf(male_births, num_births, rho) )\n",
    "    \n",
    "    return log_likelies"
   ]
  },
  {
   "cell_type": "code",
   "execution_count": 4,
   "metadata": {},
   "outputs": [],
   "source": [
    "def LogPrior(rho):\n",
    "    \"\"\" TODO (task 2): Fill in this function with the prior you used in problem 3 of this problem set.\n",
    "    \n",
    "        ARGS:\n",
    "            rho (np.array): An array of possible rho values\n",
    "        \n",
    "        RETURNS:\n",
    "            np.array: An array the same shape as rho containing the log-prior evaluated for each component of rho.\n",
    "    \"\"\"\n",
    "    \n",
    "    # TODO (task 2): REPLACE THE \"logprior\" ARRAY WITH YOUR PRIOR FROM PROBLEM 3.\n",
    "    # NOTE: Nothing actually needs to be done here because f(\\rho)=U[0,1]\n",
    "    log_prior = np.zeros(rho.shape)\n",
    "    \n",
    "    return log_prior"
   ]
  },
  {
   "cell_type": "markdown",
   "metadata": {},
   "source": [
    "#### Generate synthetic \"observations\" of male and female births"
   ]
  },
  {
   "cell_type": "code",
   "execution_count": 5,
   "metadata": {},
   "outputs": [],
   "source": [
    "# TODO (task 3):  Try changing this variable and studying it's impact on the posterior:\n",
    "total_births = 1000\n",
    "\n",
    "male_obs, female_obs = GenerateData(total_births)"
   ]
  },
  {
   "cell_type": "markdown",
   "metadata": {},
   "source": [
    "#### Compute the unnormalized log-posterior density on $\\rho$\n",
    "NOTE: You might see a warning saying \"divide by zero encountered in log.\"  This is fine.  It just means that we tried to take the $\\log$ of $0$ and that numpy will return $-\\infty$.  Later we exponentiate the log_posterior, which converts the $-\\infty$ to $0$ as expected."
   ]
  },
  {
   "cell_type": "code",
   "execution_count": 6,
   "metadata": {},
   "outputs": [
    {
     "name": "stderr",
     "output_type": "stream",
     "text": [
      "//anaconda3/lib/python3.7/site-packages/ipykernel_launcher.py:17: RuntimeWarning: divide by zero encountered in log\n"
     ]
    }
   ],
   "source": [
    "rho = np.linspace(0,1,300)\n",
    "\n",
    "log_likelihood = LogLikelihood(rho, male_obs, female_obs)\n",
    "log_prior = LogPrior(rho)\n",
    "log_posterior = log_likelihood + log_prior"
   ]
  },
  {
   "cell_type": "markdown",
   "metadata": {},
   "source": [
    "#### Plot the unnormalized posterior density"
   ]
  },
  {
   "cell_type": "code",
   "execution_count": 7,
   "metadata": {},
   "outputs": [
    {
     "data": {
      "image/png": "[encoded data removed]",
      "text/plain": [
       "<Figure size 432x288 with 1 Axes>"
      ]
     },
     "metadata": {
      "needs_background": "light"
     },
     "output_type": "display_data"
    }
   ],
   "source": [
    "plt.plot(rho, np.exp(log_prior), 'r', label='Prior')\n",
    "plt.plot(rho, np.exp(log_likelihood), 'b', label='Likelihood')\n",
    "plt.plot(rho, np.exp(log_posterior), 'g', label='Posterior (unnormalized)')\n",
    "\n",
    "# Add labels to the x and y axes. Note that matplotlib allows LaTeX to be used\n",
    "# in the labels, but some \"special\" characters like '\\r' or '\\n' need to be\n",
    "# \"escaped\" with an extra backslash, hence '\\\\r'.\n",
    "plt.xlabel('Parameter $\\\\rho$')\n",
    "plt.ylabel('Density')\n",
    "\n",
    "# Reset the limits on the y axis to start at 0 and add a little more space on the top\n",
    "ymin, ymax = plt.ylim()\n",
    "plt.ylim([0,1.1*ymax])\n",
    "\n",
    "# Reset the limits on the x axis to span the sample space [0,1]\n",
    "plt.xlim([0,1])\n",
    "\n",
    "# Show the legend\n",
    "plt.legend()\n",
    "plt.show()"
   ]
  },
  {
   "cell_type": "markdown",
   "metadata": {},
   "source": [
    "#### Estimate the evidence and compute the normalized posterior density\n",
    "Let $d$ denote the observed male and female births.  Bayes' rule gives expresses the posterior density $f(\\rho | d)$ as \n",
    "\n",
    "$$\n",
    "f(\\rho | d) = \\frac{f(d | \\rho) f(\\rho)}{f(d)},\n",
    "$$\n",
    "\n",
    "where \n",
    "\n",
    "$$\n",
    "f(d) = \\int_0^1 f(d | \\rho) f(\\rho) d\\rho\n",
    "$$\n",
    "\n",
    "is called the \"evidence.\"  The evidence is constant in $\\rho$ and normalizes $f(d | \\rho) f(\\rho)$ to ensure the posterior $f(\\rho |d)$ is a valid probability density function that integrates to $1$.  Sometimes we refer to the numerator $f(d | \\rho) f(\\rho)$ as the \"unnormalized posterior.\"\n",
    "\n",
    "The following cell approximates the evidence by using the [left endpoint rule](http://www.math.wsu.edu/faculty/genz/140/lessons/l507.pdf) to approximate the integral:\n",
    "\n",
    "$$\n",
    "\\int_0^1 f(d | \\rho) f(\\rho) d\\rho \\approx \\Delta\\rho \\sum_{i=0}^{N-1} f(d | \\rho_i) f(\\rho_i)\n",
    "$$\n"
   ]
  },
  {
   "cell_type": "code",
   "execution_count": 8,
   "metadata": {},
   "outputs": [],
   "source": [
    "unnormalized_posterior = np.exp(log_posterior)\n",
    "evidence = (rho[1]-rho[0])*np.sum(unnormalized_posterior[0:-1])\n",
    "\n",
    "posterior = unnormalized_posterior / evidence"
   ]
  },
  {
   "cell_type": "markdown",
   "metadata": {},
   "source": [
    "#### Plot the normalized posterior density"
   ]
  },
  {
   "cell_type": "code",
   "execution_count": 9,
   "metadata": {},
   "outputs": [
    {
     "data": {
      "image/png": "[encoded data removed]",
      "text/plain": [
       "<Figure size 432x288 with 1 Axes>"
      ]
     },
     "metadata": {
      "needs_background": "light"
     },
     "output_type": "display_data"
    }
   ],
   "source": [
    "plt.plot(rho, np.exp(log_prior), 'r', label='Prior')\n",
    "plt.plot(rho, np.exp(log_likelihood), 'b', label='Likelihood')\n",
    "plt.plot(rho, posterior, 'g', label='Posterior (normalized)')\n",
    "\n",
    "# Add labels to the x and y axes.\n",
    "plt.xlabel('Parameter $\\\\rho$')\n",
    "plt.ylabel('Density')\n",
    "\n",
    "# Reset the limits on the y axis to start at 0 and add a little more space on the top\n",
    "ymin, ymax = plt.ylim()\n",
    "plt.ylim([0,1.1*ymax])\n",
    "\n",
    "# Reset the limits on the x axis to span the sample space [0,1]\n",
    "plt.xlim([0,1])\n",
    "\n",
    "# Show the legend\n",
    "plt.legend()\n",
    "plt.show()"
   ]
  },
  {
   "cell_type": "markdown",
   "metadata": {},
   "source": [
    "## Task 3 Results\n",
    "Use this cell to describe your observations about the posterior. \n",
    "\n",
    "#### Solution:\n",
    "As the number of observations increases, the posterior variance shrinks and becomes centered on the true value of 0.51.  With more observations, the posterior density also begins to resemble a Normal density."
   ]
  },
  {
   "cell_type": "markdown",
   "metadata": {},
   "source": [
    "## Task 4:\n",
    "To compute the evidence above, we numerically approximated an integral using the left endpoint rule.   This is not the most accurate approximation (it has error $O(1/N)$), but is simple to implement.   Use the left endpoint rule (or another more accurate numerical integration strategy) to approximate the the probability $\\mathbb{P}(\\rho \\geq 0.5)$ using $1000$ observations.  "
   ]
  },
  {
   "cell_type": "markdown",
   "metadata": {},
   "source": [
    "#### Solution:\n",
    "Let $f$ and $m$ denote the number of female and male births, respectively.  We are interested in computing the integral\n",
    "$$\n",
    "\\mathbb{P}(\\rho\\geq 0.5) = \\int_{0.5}^{1.0} f(\\rho | f,m) d\\rho\n",
    "$$"
   ]
  },
  {
   "cell_type": "code",
   "execution_count": 10,
   "metadata": {},
   "outputs": [
    {
     "name": "stdout",
     "output_type": "stream",
     "text": [
      "P(\r",
      "ho>0.5) =  0.8924685963367933\n"
     ]
    },
    {
     "name": "stderr",
     "output_type": "stream",
     "text": [
      "//anaconda3/lib/python3.7/site-packages/ipykernel_launcher.py:17: RuntimeWarning: divide by zero encountered in log\n"
     ]
    }
   ],
   "source": [
    "rho2 = np.linspace(0.5,1.0,100)\n",
    "\n",
    "log_likelihood2 = LogLikelihood(rho2, male_obs, female_obs)\n",
    "log_prior2 = LogPrior(rho2)\n",
    "log_posterior2 = log_likelihood2 + log_prior2\n",
    "posterior2 = np.exp(log_posterior2) / evidence # notice that the evidence is the same as above\n",
    "\n",
    "prob = (rho2[1]-rho2[0])*np.sum(posterior2)\n",
    "\n",
    "print('P(\\rho>0.5) = ', prob)"
   ]
  },
  {
   "cell_type": "code",
   "execution_count": null,
   "metadata": {},
   "outputs": [],
   "source": []
  }
 ],
 "metadata": {
  "kernelspec": {
   "display_name": "Python 3",
   "language": "python",
   "name": "python3"
  },
  "language_info": {
   "codemirror_mode": {
    "name": "ipython",
    "version": 3
   },
   "file_extension": ".py",
   "mimetype": "text/x-python",
   "name": "python",
   "nbconvert_exporter": "python",
   "pygments_lexer": "ipython3",
   "version": "3.7.3"
  }
 },
 "nbformat": 4,
 "nbformat_minor": 2
}
